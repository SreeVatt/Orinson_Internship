{
 "cells": [
  {
   "cell_type": "markdown",
   "id": "b0022060",
   "metadata": {},
   "source": [
    "### Importing Packages\n"
   ]
  },
  {
   "cell_type": "code",
   "execution_count": 7,
   "id": "ccfd7ea3",
   "metadata": {},
   "outputs": [],
   "source": [
    "import pandas as pd\n",
    "import numpy as np\n",
    "import matplotlib.pyplot as plot\n",
    "from sklearn.model_selection import train_test_split\n"
   ]
  },
  {
   "cell_type": "markdown",
   "id": "4b530097",
   "metadata": {},
   "source": [
    "### Importing the Dataset"
   ]
  },
  {
   "cell_type": "code",
   "execution_count": 26,
   "id": "cfa77a45",
   "metadata": {},
   "outputs": [],
   "source": [
    "data=pd.read_csv(\"C:\\\\Users\\\\sreev\\\\OneDrive\\\\Documents\\\\GitHub\\\\Orinson_Internship\\\\Task 1\\\\Dataset\\\\Iris dataset.txt\")"
   ]
  },
  {
   "cell_type": "code",
   "execution_count": null,
   "id": "07f2f92e",
   "metadata": {},
   "outputs": [],
   "source": []
  }
 ],
 "metadata": {
  "kernelspec": {
   "display_name": "Python 3 (ipykernel)",
   "language": "python",
   "name": "python3"
  },
  "language_info": {
   "codemirror_mode": {
    "name": "ipython",
    "version": 3
   },
   "file_extension": ".py",
   "mimetype": "text/x-python",
   "name": "python",
   "nbconvert_exporter": "python",
   "pygments_lexer": "ipython3",
   "version": "3.11.5"
  }
 },
 "nbformat": 4,
 "nbformat_minor": 5
}
